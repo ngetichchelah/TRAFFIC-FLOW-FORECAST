{
 "cells": [
  {
   "cell_type": "code",
   "execution_count": null,
   "id": "4f9ff504",
   "metadata": {},
   "outputs": [],
   "source": [
    "# Imports \n",
    "import numpy as np\n",
    "import pandas as pd\n",
    "import matplotlib.pyplot as plt\n",
    "import joblib   # for saving scalers\n",
    "from sklearn.preprocessing import MinMaxScaler\n",
    "from sklearn.metrics import mean_squared_error, mean_absolute_error, r2_score\n",
    "from tensorflow.keras.models import Sequential\n",
    "from tensorflow.keras.layers import LSTM, GRU, Dense, Dropout\n",
    "from tensorflow.keras.callbacks import EarlyStopping, ModelCheckpoint\n",
    "from statsmodels.tsa.statespace.sarimax import SARIMAX\n",
    "import warnings\n",
    "warnings.filterwarnings('ignore')"
   ]
  },
  {
   "cell_type": "code",
   "execution_count": 26,
   "id": "d5dc1b95",
   "metadata": {},
   "outputs": [
    {
     "name": "stdout",
     "output_type": "stream",
     "text": [
      "Loaded cleaned data shape: (16137, 64)\n",
      "Index range: 2012-01-11 00:00:00 - 2018-12-09 23:00:00\n"
     ]
    }
   ],
   "source": [
    "#load data\n",
    "df = pd.read_csv(\"data_cleaned.csv\", index_col=0, parse_dates=True)\n",
    "df.index.name = 'date_time'   # ensure name\n",
    "\n",
    "print(\"Loaded cleaned data shape:\", df.shape)\n",
    "print(\"Index range:\", df.index.min(), \"-\", df.index.max())"
   ]
  },
  {
   "cell_type": "code",
   "execution_count": 27,
   "id": "3e49904b",
   "metadata": {},
   "outputs": [
    {
     "data": {
      "text/plain": [
       "(16137, 64)"
      ]
     },
     "execution_count": 27,
     "metadata": {},
     "output_type": "execute_result"
    }
   ],
   "source": [
    "df.shape"
   ]
  },
  {
   "cell_type": "code",
   "execution_count": 28,
   "id": "6ce11a8f",
   "metadata": {},
   "outputs": [
    {
     "data": {
      "text/plain": [
       "Index(['temp', 'rain_1h', 'snow_1h', 'clouds_all', 'traffic_volume', 'temp_c',\n",
       "       'hour', 'dayofweek', 'month', 'year', 'is_weekend', 'hour_sin',\n",
       "       'hour_cos', 'dow_sin', 'dow_cos', 'holiday_Columbus Day',\n",
       "       'holiday_Independence Day', 'holiday_Labor Day',\n",
       "       'holiday_New Years Day', 'holiday_None', 'holiday_Veterans Day',\n",
       "       'weather_main_Clear', 'weather_main_Clouds', 'weather_main_Drizzle',\n",
       "       'weather_main_Fog', 'weather_main_Haze', 'weather_main_Mist',\n",
       "       'weather_main_Rain', 'weather_main_Smoke', 'weather_main_Snow',\n",
       "       'weather_main_Squall', 'weather_main_Thunderstorm',\n",
       "       'weather_description_SQUALLS', 'weather_description_Sky is Clear',\n",
       "       'weather_description_broken clouds', 'weather_description_drizzle',\n",
       "       'weather_description_few clouds', 'weather_description_fog',\n",
       "       'weather_description_haze',\n",
       "       'weather_description_heavy intensity drizzle',\n",
       "       'weather_description_heavy intensity rain',\n",
       "       'weather_description_heavy snow',\n",
       "       'weather_description_light intensity drizzle',\n",
       "       'weather_description_light intensity shower rain',\n",
       "       'weather_description_light rain',\n",
       "       'weather_description_light shower snow',\n",
       "       'weather_description_light snow', 'weather_description_mist',\n",
       "       'weather_description_moderate rain',\n",
       "       'weather_description_overcast clouds',\n",
       "       'weather_description_proximity shower rain',\n",
       "       'weather_description_proximity thunderstorm',\n",
       "       'weather_description_proximity thunderstorm with rain',\n",
       "       'weather_description_scattered clouds',\n",
       "       'weather_description_shower drizzle',\n",
       "       'weather_description_sky is clear', 'weather_description_smoke',\n",
       "       'weather_description_snow', 'weather_description_thunderstorm',\n",
       "       'weather_description_thunderstorm with heavy rain',\n",
       "       'weather_description_thunderstorm with light drizzle',\n",
       "       'weather_description_thunderstorm with light rain',\n",
       "       'weather_description_thunderstorm with rain',\n",
       "       'weather_description_very heavy rain'],\n",
       "      dtype='object')"
      ]
     },
     "execution_count": 28,
     "metadata": {},
     "output_type": "execute_result"
    }
   ],
   "source": [
    "df.columns"
   ]
  },
  {
   "cell_type": "code",
   "execution_count": 29,
   "id": "bb1344b3",
   "metadata": {},
   "outputs": [
    {
     "name": "stdout",
     "output_type": "stream",
     "text": [
      "\n",
      "Missing count:\n",
      " temp                                                   0\n",
      "rain_1h                                                0\n",
      "snow_1h                                                0\n",
      "clouds_all                                             0\n",
      "traffic_volume                                         0\n",
      "                                                      ..\n",
      "weather_description_thunderstorm with heavy rain       0\n",
      "weather_description_thunderstorm with light drizzle    0\n",
      "weather_description_thunderstorm with light rain       0\n",
      "weather_description_thunderstorm with rain             0\n",
      "weather_description_very heavy rain                    0\n",
      "Length: 64, dtype: int64\n",
      "\n",
      "Non-numeric columns (should be 0): []\n",
      "\n",
      "Duplicate timestamps: 0\n"
     ]
    }
   ],
   "source": [
    "#checks again\n",
    "def final_check(df):\n",
    "    print(\"\\nMissing count:\\n\", df.isnull().sum())\n",
    "    non_numeric = df.select_dtypes(exclude=[np.number]).columns.tolist()\n",
    "    print(\"\\nNon-numeric columns (should be 0):\", non_numeric)\n",
    "    print(\"\\nDuplicate timestamps:\", df.index.duplicated().sum())\n",
    "final_check(df)"
   ]
  },
  {
   "cell_type": "code",
   "execution_count": 30,
   "id": "49ea1120",
   "metadata": {},
   "outputs": [
    {
     "name": "stdout",
     "output_type": "stream",
     "text": [
      "Holiday flag distribution:\n",
      " is_holiday\n",
      "0    16113\n",
      "1       24\n",
      "Name: count, dtype: int64\n"
     ]
    }
   ],
   "source": [
    "# 3. Create binary holiday\n",
    "if 'is_holiday' not in df.columns:\n",
    "    holiday_cols = [c for c in df.columns if c.lower().startswith('holiday_')]\n",
    "    if 'holiday_None' in df.columns:\n",
    "        df['is_holiday'] = (1 - df['holiday_None']).astype(int)\n",
    "    elif holiday_cols:\n",
    "        df['is_holiday'] = (df[holiday_cols].sum(axis=1) > 0).astype(int)\n",
    "    else:\n",
    "        df['is_holiday'] = 0\n",
    "\n",
    "print(\"Holiday flag distribution:\\n\", df['is_holiday'].value_counts())"
   ]
  },
  {
   "cell_type": "code",
   "execution_count": 31,
   "id": "42d0c146",
   "metadata": {},
   "outputs": [
    {
     "name": "stdout",
     "output_type": "stream",
     "text": [
      "After creating lags, shape: (15969, 68)\n"
     ]
    }
   ],
   "source": [
    "# Create lag features (traffic_volume t-1, t-24, t-168)\n",
    "for lag in [1, 24, 168]:\n",
    "    df[f'traffic_lag_{lag}'] = df['traffic_volume'].shift(lag)\n",
    "\n",
    "# Drop rows with NaNs that result from lagging (first 168 rows typically)\n",
    "df = df.dropna(subset=[f'traffic_lag_{l}' for l in [1,24,168]])\n",
    "print(\"After creating lags, shape:\", df.shape)"
   ]
  },
  {
   "cell_type": "code",
   "execution_count": 32,
   "id": "33a95cd2",
   "metadata": {},
   "outputs": [
    {
     "name": "stdout",
     "output_type": "stream",
     "text": [
      "NaNs per column:\n",
      "temp                                   0\n",
      "rain_1h                                0\n",
      "snow_1h                                0\n",
      "clouds_all                             0\n",
      "traffic_volume                         0\n",
      "                                      ..\n",
      "weather_description_very heavy rain    0\n",
      "is_holiday                             0\n",
      "traffic_lag_1                          0\n",
      "traffic_lag_24                         0\n",
      "traffic_lag_168                        0\n",
      "Length: 68, dtype: int64\n",
      "Remaining NaNs after drop: 0\n"
     ]
    }
   ],
   "source": [
    "# Check how many NaNs per column\n",
    "print(\"NaNs per column:\")\n",
    "print(df.isna().sum())\n",
    "\n",
    "# Drop rows with NaT or NaN in time-derived columns\n",
    "df = df.dropna(subset=['hour', 'dayofweek', 'month', 'year'])\n",
    "\n",
    "print(\"Remaining NaNs after drop:\", df.isna().sum().sum())"
   ]
  },
  {
   "cell_type": "code",
   "execution_count": 33,
   "id": "baf1f219",
   "metadata": {},
   "outputs": [
    {
     "name": "stdout",
     "output_type": "stream",
     "text": [
      "Features scaled: (15968, 67) Target scaled: (15968, 1)\n"
     ]
    }
   ],
   "source": [
    "# Scaling\n",
    "feature_cols = [c for c in df.columns if c != 'traffic_volume']\n",
    "X = df[feature_cols].values\n",
    "y = df['traffic_volume'].values.reshape(-1, 1)\n",
    "\n",
    "scaler_X = MinMaxScaler()\n",
    "X_scaled = scaler_X.fit_transform(X)\n",
    "\n",
    "scaler_y = MinMaxScaler()\n",
    "y_scaled = scaler_y.fit_transform(y)\n",
    "\n",
    "joblib.dump(scaler_X, \"scaler_X.save\")\n",
    "joblib.dump(scaler_y, \"scaler_y.save\")\n",
    "\n",
    "print(\"Features scaled:\", X_scaled.shape, \"Target scaled:\", y_scaled.shape)"
   ]
  },
  {
   "cell_type": "code",
   "execution_count": 34,
   "id": "b1889d84",
   "metadata": {},
   "outputs": [
    {
     "name": "stdout",
     "output_type": "stream",
     "text": [
      "Train shapes: (12774, 67) (12774, 1)\n",
      "Test shapes: (3194, 67) (3194, 1)\n"
     ]
    }
   ],
   "source": [
    "# Chronological split\n",
    "train_size = int(len(X_scaled) * 0.8)  # 80% train, 20% test\n",
    "\n",
    "X_train, X_test = X_scaled[:train_size], X_scaled[train_size:]\n",
    "y_train, y_test = y_scaled[:train_size], y_scaled[train_size:]\n",
    "\n",
    "print(\"Train shapes:\", X_train.shape, y_train.shape)\n",
    "print(\"Test shapes:\", X_test.shape, y_test.shape)"
   ]
  },
  {
   "cell_type": "code",
   "execution_count": null,
   "id": "45cb7adc",
   "metadata": {},
   "outputs": [
    {
     "name": "stdout",
     "output_type": "stream",
     "text": [
      "Training set:\n",
      "Start: 2012-03-12 14:00:00  End: 2017-10-11 12:00:00\n",
      "Shape: (12774, 67)\n",
      "\n",
      "Test set:\n",
      "Start: 2017-10-11 13:00:00  End: 2018-12-09 23:00:00\n",
      "Shape: (3194, 67)\n"
     ]
    }
   ],
   "source": [
    "# Get datetime index\n",
    "dates = df.index  \n",
    "\n",
    "# Split index chronologically\n",
    "train_dates, test_dates = dates[:train_size], dates[train_size:]\n",
    "\n",
    "print(\"Training set:\")\n",
    "print(\"Start:\", train_dates.min(), \" End:\", train_dates.max())\n",
    "print(\"Shape:\", X_train.shape)\n",
    "\n",
    "print(\"Test set:\")\n",
    "print(\"Start:\", test_dates.min(), \" End:\", test_dates.max())\n",
    "print(\"Shape:\", X_test.shape)\n"
   ]
  },
  {
   "cell_type": "code",
   "execution_count": 36,
   "id": "8fba80eb",
   "metadata": {},
   "outputs": [
    {
     "name": "stdout",
     "output_type": "stream",
     "text": [
      "                           RMSE           MAE            R²\n",
      "Linear Regression  3.383798e+10  5.987386e+08 -2.982056e+14\n",
      "Random Forest      2.939509e+02  2.032858e+02  9.774962e-01\n",
      "Gradient Boosting  3.171191e+02  2.299307e+02  9.738090e-01\n"
     ]
    }
   ],
   "source": [
    "#Baseline\n",
    "from sklearn.linear_model import LinearRegression\n",
    "from sklearn.ensemble import RandomForestRegressor, GradientBoostingRegressor\n",
    "from sklearn.metrics import mean_squared_error, mean_absolute_error, r2_score\n",
    "import numpy as np\n",
    "\n",
    "# Initialize models\n",
    "models = {\n",
    "    \"Linear Regression\": LinearRegression(),\n",
    "    \"Random Forest\": RandomForestRegressor(n_estimators=100, random_state=42),\n",
    "    \"Gradient Boosting\": GradientBoostingRegressor(n_estimators=200, learning_rate=0.1, random_state=42)\n",
    "}\n",
    "\n",
    "# Train and evaluate\n",
    "results = {}\n",
    "\n",
    "for name, model in models.items():\n",
    "    model.fit(X_train, y_train.ravel())\n",
    "    y_pred = model.predict(X_test)\n",
    "    \n",
    "    # Inverse scale predictions for real-world interpretability\n",
    "    y_pred_inv = scaler_y.inverse_transform(y_pred.reshape(-1,1))\n",
    "    y_test_inv = scaler_y.inverse_transform(y_test)\n",
    "    \n",
    "    rmse = np.sqrt(mean_squared_error(y_test_inv, y_pred_inv))\n",
    "    mae = mean_absolute_error(y_test_inv, y_pred_inv)\n",
    "    r2 = r2_score(y_test_inv, y_pred_inv)\n",
    "    \n",
    "    results[name] = {\"RMSE\": rmse, \"MAE\": mae, \"R²\": r2}\n",
    "\n",
    "results_df = pd.DataFrame(results).T\n",
    "print(results_df)"
   ]
  },
  {
   "cell_type": "markdown",
   "id": "18fefa72",
   "metadata": {},
   "source": [
    "### **Insights**\n",
    "\n",
    "Linear Regression is not viable for this dataset. \n",
    "Traffic patterns are highly non-linear (rush hours, weather interactions, holidays, etc.), so a linear baseline fails badly.\n",
    "\n",
    "Random Forest and Gradient Boosting are excellent first baselines, showing R² ≈ 0.97. \n",
    "\n",
    "These errors (~200–300 cars/hour) are quite reasonable compared to the overall traffic range (~0–7000)."
   ]
  },
  {
   "cell_type": "code",
   "execution_count": 38,
   "id": "83cbb97b",
   "metadata": {},
   "outputs": [
    {
     "name": "stdout",
     "output_type": "stream",
     "text": [
      "Fitting 3 folds for each of 25 candidates, totalling 75 fits\n",
      "Best Params: {'max_depth': 10, 'min_samples_leaf': 3, 'min_samples_split': 6, 'n_estimators': 234}\n"
     ]
    }
   ],
   "source": [
    "from sklearn.model_selection import RandomizedSearchCV\n",
    "from scipy.stats import randint\n",
    "\n",
    "param_dist = {\n",
    "    'n_estimators': randint(100, 400),\n",
    "    'max_depth': [10, 20, None],\n",
    "    'min_samples_split': randint(2, 10),\n",
    "    'min_samples_leaf': randint(1, 5)\n",
    "}\n",
    "\n",
    "rf = RandomForestRegressor(random_state=42, n_jobs=-1)\n",
    "\n",
    "random_search = RandomizedSearchCV(\n",
    "    rf,\n",
    "    param_distributions=param_dist,\n",
    "    n_iter=25,   # number of random combinations\n",
    "    cv=3,\n",
    "    scoring='neg_mean_squared_error',\n",
    "    verbose=2,\n",
    "    n_jobs=-1,\n",
    "    random_state=42\n",
    ")\n",
    "\n",
    "random_search.fit(X_train, y_train.ravel())\n",
    "print(\"Best Params:\", random_search.best_params_)\n",
    "best_rf = random_search.best_estimator_"
   ]
  },
  {
   "cell_type": "code",
   "execution_count": 39,
   "id": "5ca528a5",
   "metadata": {},
   "outputs": [
    {
     "name": "stdout",
     "output_type": "stream",
     "text": [
      "Train → RMSE: 0.039, MAE: 0.025, R²: 0.980\n",
      "Test → RMSE: 0.040, MAE: 0.028, R²: 0.978\n"
     ]
    }
   ],
   "source": [
    "#evaluation\n",
    "from sklearn.metrics import mean_squared_error, mean_absolute_error, r2_score\n",
    "import numpy as np\n",
    "\n",
    "best_rf = random_search.best_estimator_  # or grid_search.best_estimator_\n",
    "\n",
    "# Train prediction\n",
    "y_train_pred = best_rf.predict(X_train)\n",
    "# Test prediction\n",
    "y_test_pred = best_rf.predict(X_test)\n",
    "\n",
    "# Metrics\n",
    "def eval_model(y_true, y_pred, label):\n",
    "    rmse = np.sqrt(mean_squared_error(y_true, y_pred))\n",
    "    mae = mean_absolute_error(y_true, y_pred)\n",
    "    r2 = r2_score(y_true, y_pred)\n",
    "    print(f\"{label} → RMSE: {rmse:.3f}, MAE: {mae:.3f}, R²: {r2:.3f}\")\n",
    "\n",
    "eval_model(y_train, y_train_pred, \"Train\")\n",
    "eval_model(y_test, y_test_pred, \"Test\")"
   ]
  },
  {
   "cell_type": "code",
   "execution_count": 42,
   "id": "62b92335",
   "metadata": {},
   "outputs": [
    {
     "data": {
      "image/png": "[encoded data removed]",
      "text/plain": [
       "<Figure size 1000x500 with 1 Axes>"
      ]
     },
     "metadata": {},
     "output_type": "display_data"
    }
   ],
   "source": [
    "import matplotlib.pyplot as plt\n",
    "import numpy as np\n",
    "\n",
    "# Get feature importances\n",
    "importances = best_rf.feature_importances_\n",
    "indices = np.argsort(importances)[::-1]\n",
    "\n",
    "# Top 10\n",
    "top_n = 10\n",
    "top_indices = indices[:top_n]\n",
    "top_features = np.array(feature_cols)[top_indices]\n",
    "top_importances = importances[top_indices]\n",
    "\n",
    "# Plot\n",
    "plt.figure(figsize=(10, 5))\n",
    "plt.bar(range(top_n), top_importances, align=\"center\")\n",
    "plt.xticks(range(top_n), top_features, rotation=45, ha=\"right\")\n",
    "plt.title(f\"Top {top_n} Feature Importances (Random Forest)\")\n",
    "plt.tight_layout()\n",
    "plt.show()\n"
   ]
  },
  {
   "cell_type": "code",
   "execution_count": null,
   "id": "2deacbf5",
   "metadata": {},
   "outputs": [],
   "source": [
    "#Residual Analysis\n",
    "residuals = y_test - y_test_pred\n",
    "plt.scatter(y_test_pred, residuals)\n",
    "plt.axhline(0, color='red', linestyle='--')\n",
    "plt.xlabel(\"Predicted\")\n",
    "plt.ylabel(\"Residuals\")\n",
    "plt.title(\"Residual Plot\")\n",
    "plt.show()"
   ]
  },
  {
   "cell_type": "code",
   "execution_count": null,
   "id": "2ef91cc4",
   "metadata": {},
   "outputs": [],
   "source": [
    "# #Baseline Evaluation\n",
    "\n",
    "# from sklearn.linear_model import LinearRegression\n",
    "# from sklearn.ensemble import RandomForestRegressor\n",
    "# from sklearn.metrics import mean_squared_error, mean_absolute_error, r2_score\n",
    "# import numpy as np\n",
    "\n",
    "# # --- Helper function for evaluation ---\n",
    "# def evaluate_model(name, model, X_train, y_train, X_test, y_test):\n",
    "#     # Predictions\n",
    "#     y_pred_train = model.predict(X_train)\n",
    "#     y_pred_test = model.predict(X_test)\n",
    "    \n",
    "#     # Inverse transform target (since we scaled y earlier)\n",
    "#     y_train_inv = scaler_y.inverse_transform(y_train)\n",
    "#     y_test_inv = scaler_y.inverse_transform(y_test)\n",
    "#     y_pred_train_inv = scaler_y.inverse_transform(y_pred_train.reshape(-1,1))\n",
    "#     y_pred_test_inv = scaler_y.inverse_transform(y_pred_test.reshape(-1,1))\n",
    "    \n",
    "#     # Metrics\n",
    "#     results = {\n",
    "#         \"Model\": name,\n",
    "#         \"Train RMSE\": np.sqrt(mean_squared_error(y_train_inv, y_pred_train_inv)),\n",
    "#         \"Test RMSE\": np.sqrt(mean_squared_error(y_test_inv, y_pred_test_inv)),\n",
    "#         \"Train MAE\": mean_absolute_error(y_train_inv, y_pred_train_inv),\n",
    "#         \"Test MAE\": mean_absolute_error(y_test_inv, y_pred_test_inv),\n",
    "#         \"Train R2\": r2_score(y_train_inv, y_pred_train_inv),\n",
    "#         \"Test R2\": r2_score(y_test_inv, y_pred_test_inv)\n",
    "#     }\n",
    "#     return results\n",
    "\n",
    "# # --- Linear Regression ---\n",
    "# lin_reg = LinearRegression()\n",
    "# lin_reg.fit(X_train, y_train)\n",
    "# results_lr = evaluate_model(\"Linear Regression\", lin_reg, X_train, y_train, X_test, y_test)\n",
    "\n",
    "# # --- Random Forest ---\n",
    "# rf = RandomForestRegressor(n_estimators=100, random_state=42, n_jobs=-1)\n",
    "# rf.fit(X_train, y_train.ravel())  # flatten target for RF\n",
    "# results_rf = evaluate_model(\"Random Forest\", rf, X_train, y_train, X_test, y_test)\n",
    "\n",
    "# # --- Compare ---\n",
    "# import pandas as pd\n",
    "# baseline_results = pd.DataFrame([results_lr, results_rf])\n",
    "# print(baseline_results)\n"
   ]
  }
 ],
 "metadata": {
  "kernelspec": {
   "display_name": "venv",
   "language": "python",
   "name": "python3"
  },
  "language_info": {
   "codemirror_mode": {
    "name": "ipython",
    "version": 3
   },
   "file_extension": ".py",
   "mimetype": "text/x-python",
   "name": "python",
   "nbconvert_exporter": "python",
   "pygments_lexer": "ipython3",
   "version": "3.13.7"
  }
 },
 "nbformat": 4,
 "nbformat_minor": 5
}
